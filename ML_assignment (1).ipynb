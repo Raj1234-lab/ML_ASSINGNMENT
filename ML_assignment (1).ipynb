{
  "nbformat": 4,
  "nbformat_minor": 0,
  "metadata": {
    "colab": {
      "provenance": []
    },
    "kernelspec": {
      "name": "python3",
      "display_name": "Python 3"
    },
    "language_info": {
      "name": "python"
    }
  },
  "cells": [
    {
      "cell_type": "markdown",
      "source": [
        "Question 1: Explain the differences between AI, ML, Deep Learning (DL), and Data\n",
        "Science (DS).\n",
        "\n",
        "\n",
        "Ans:- Artificial Intelligence (AI), Machine Learning (ML), Deep Learning (DL), and Data Science (DS) are interconnected but distinct fields within the realm of data and intelligence.\n",
        "\n",
        "Artificial Intelligence (AI):\n",
        "This is the broadest field, aiming to create machines that can perform tasks mimicking human intelligence. This includes reasoning, problem-solving, decision-making, understanding language, and perception. AI encompasses various approaches, including symbolic AI (rule-based systems) and computational intelligence (which includes ML and DL).\n",
        "\n",
        "Machine Learning (ML):\n",
        "ML is a subset of AI that focuses on developing algorithms enabling systems to learn from data without explicit programming. Instead of being given a set of rules, ML algorithms identify patterns and make predictions or decisions based on the data they are trained on. Examples include spam filters, recommendation engines, and predictive analytics.\n",
        "\n",
        "Deep Learning (DL):\n",
        "DL is a specialized subset of ML that utilizes artificial neural networks with multiple layers (deep neural networks) to learn complex patterns from large datasets. Inspired by the structure of the human brain, DL excels in tasks like image recognition, natural language processing, and speech recognition due to its ability to automatically extract hierarchical features from raw data.\n",
        "\n",
        "Data Science (DS):\n",
        "Data Science is an interdisciplinary field that uses scientific methods, processes, algorithms, and systems to extract knowledge and insights from structured and unstructured data. It involves collecting, cleaning, processing, analyzing, and interpreting data to make data-driven decisions. While Data Science often leverages ML and DL techniques for analysis and model building, it also incorporates other disciplines like statistics, mathematics, and domain expertise for data exploration, visualization, and communication of findings"
      ],
      "metadata": {
        "id": "c74bSPXWdqr1"
      }
    },
    {
      "cell_type": "markdown",
      "source": [
        "Question 2: What are the types of machine learning? Describe each with one real-world example.\n",
        "\n",
        "\n",
        "Ans:- Machine Learning are of four types:-\n",
        "\n",
        "1. Supervised learning:-This type of learning involves training an algorithm on a dataset that has both input features and corresponding correct output labels. The model learns to map inputs to outputs by identifying patterns in the labeled data.\n",
        "\n",
        "eg:-Email Spam Filtering. When you mark an email as spam, you're providing labeled data to the model. The algorithm then learns to recognize patterns associated with spam, like certain keywords or sender addresses, to automatically filter future spam emails.\n",
        "\n",
        "2. Unsupervised learning:- In unsupervised learning, the algorithm is given unlabeled data and is tasked with finding hidden patterns or structures within it without any human guidance.\n",
        "\n",
        "eg:- Product Recommendations. E-commerce sites use unsupervised learning to group customers with similar purchasing habits. This allows them to recommend products to one customer based on what other similar customers have bought, even if those customers didn't purchase the exact same items.\n",
        "\n",
        "3. Reinforcement learning:-This method involves training an agent to make decisions by interacting with an environment. The agent receives rewards for desirable actions and penalties for undesirable ones, learning through a process of trial and error to maximize its cumulative reward over time.\n",
        "eg:- Self-Driving Cars. Reinforcement learning is used to train the driving systems of autonomous vehicles. The system learns to navigate, avoid obstacles, and reach its destination by taking actions in its environment and being rewarded for safe and efficient driving, or penalized for errors.\n",
        "\n",
        "4. semi-supervised learning :- This approach combines a small amount of labeled data with a large quantity of unlabeled data. It's useful when labeling large datasets is expensive or time-consuming, and it leverages the unlabeled data to improve the accuracy of the model trained on the limited labeled data.\n",
        "eg:- Speech Recognition Systems. When using virtual personal assistants like Siri or Google Assistant, the system uses a small amount of labeled audio for commands to guide its learning, but also analyzes vast amounts of unlabeled voice data to improve its ability to understand different accents, dialects, and speaking patterns."
      ],
      "metadata": {
        "id": "C0I-tNS7e9HM"
      }
    },
    {
      "cell_type": "markdown",
      "source": [
        "Question 3: Define overfitting, underfitting, and the bias-variance tradeoff in machine learning.\n",
        "\n",
        "Ans:- Overfitting:\n",
        "Overfitting occurs when a machine learning model learns the training data too well, including its noise and specific patterns, rather than the underlying general relationships. This results in excellent performance on the training data but poor performance on unseen, new data. An overfit model is typically too complex for the given data, leading to high variance.\n",
        "\n",
        "Underfitting:\n",
        "Underfitting occurs when a machine learning model is too simplistic and fails to capture the essential patterns within the training data. This leads to poor performance on both the training data and unseen test data. An underfit model is characterized by high bias, meaning it makes strong, incorrect assumptions about the data's structure.\n",
        "\n",
        "Bias-Variance Tradeoff:\n",
        "The bias-variance tradeoff describes the inherent conflict in machine learning between minimizing two sources of error that prevent a model from generalizing well"
      ],
      "metadata": {
        "id": "vUKSQaaTe9D0"
      }
    },
    {
      "cell_type": "markdown",
      "source": [
        "Question 4: What are outliers in a dataset, and list three common techniques for handling them.\n",
        "\n",
        "Ans:- Outliers serve as captivating anomalies that frequently harbor profound insights within datasets. Despite appearing as erroneous data points, outliers possess the potential to offer valuable revelations about underlying processes or to reveal potential error in data collection.\n",
        "\n",
        "Data Transformation\n",
        "Data transformation methods such as logarithm, square root, or Box-Cox transformation can be applied to make the data more normally distributed, reducing the impact of outliers.\n",
        "\n",
        "Imputation\n",
        "Instead of removing outliers, you can impute them with a more reasonable value. Mean, median, or a custom imputation method can be used based on your domain knowledge.\n",
        "\n",
        "Feature Engineering\n",
        "Create new features that capture information from outliers. For example, you can add a binary feature indicating the presence of outliers in a particular column."
      ],
      "metadata": {
        "id": "QvPyfDEwe9AJ"
      }
    },
    {
      "cell_type": "markdown",
      "source": [
        "Question 5: Explain the process of handling missing values and mention one imputation technique for numerical and one for categorical data.\n",
        "\n",
        "Ans:- Handling missing values is a crucial step in data preprocessing, as missing data can lead to biased analyses and reduced model performance. The process typically involves identifying the missing values, understanding their patterns (e.g., Missing At Random, Missing Completely At Random, Missing Not At Random), and then deciding on an appropriate strategy to address them. Strategies include deletion (removing rows or columns with missing values) or imputation (replacing missing values with estimated values)\n",
        "\n",
        "Imputation Techniques:\n",
        "For Numerical Data: Mean/Median Imputation\n",
        "This technique involves replacing missing numerical values with the mean or median of the respective column.\n",
        "Mean Imputation: Suitable when the data is roughly symmetrically distributed and does not contain significant outliers.\n",
        "Median Imputation: Preferred when the data is skewed or contains outliers, as the median is less sensitive to extreme values than the mean."
      ],
      "metadata": {
        "id": "b7KF-NVoe88h"
      }
    },
    {
      "cell_type": "code",
      "source": [
        "# Question 6: Write a Python program that:\n",
        "#Creates a synthetic imbalanced dataset with make_classification() from\n",
        "#sklearn.datasets.\n",
        "# Prints the class distribution.\n",
        "\n",
        "\n",
        "from sklearn.datasets import make_classification\n",
        "from collections import Counter\n",
        "\n",
        "# Create synthetic imbalanced dataset\n",
        "X, y = make_classification(\n",
        "    n_samples=1000,       # total samples\n",
        "    n_features=10,        # number of features\n",
        "    n_informative=5,      # number of informative features\n",
        "    n_redundant=2,        # number of redundant features\n",
        "    n_clusters_per_class=1,\n",
        "    weights=[0.9, 0.1],   # imbalance ratio (90% of class 0, 10% of class 1)\n",
        "    flip_y=0,             # no noise in labels\n",
        "    random_state=42\n",
        ")\n",
        "\n",
        "# Print class distribution\n",
        "class_distribution = Counter(y)\n",
        "print(\"Class distribution:\", class_distribution)"
      ],
      "metadata": {
        "id": "IU-B0IPslQSv",
        "colab": {
          "base_uri": "https://localhost:8080/"
        },
        "outputId": "3f9828ca-83d9-4071-9bf6-c4270c42e4f5"
      },
      "execution_count": 1,
      "outputs": [
        {
          "output_type": "stream",
          "name": "stdout",
          "text": [
            "Class distribution: Counter({np.int64(0): 900, np.int64(1): 100})\n"
          ]
        }
      ]
    },
    {
      "cell_type": "code",
      "source": [
        "#Question 7: Implement one-hot encoding using pandas for the following list of colors:\n",
        " #['Red', 'Green', 'Blue', 'Green', 'Red']. Print the resulting dataframe.\n",
        "\n",
        "import pandas as pd\n",
        "\n",
        "# Define the list of colors\n",
        "colors = ['Red', 'Green', 'Blue', 'Green', 'Red']\n",
        "\n",
        "# Create a Pandas DataFrame from the list\n",
        "df = pd.DataFrame({'Color': colors})\n",
        "\n",
        "# Apply one-hot encoding using get_dummies()\n",
        "df_encoded = pd.get_dummies(df, columns=['Color'])\n",
        "\n",
        "# Print the resulting DataFrame\n",
        "print(df_encoded)"
      ],
      "metadata": {
        "colab": {
          "base_uri": "https://localhost:8080/"
        },
        "id": "wAxuXK4mHjgG",
        "outputId": "5cfe4f1b-9518-40d1-ec91-2ed6e2843563"
      },
      "execution_count": 2,
      "outputs": [
        {
          "output_type": "stream",
          "name": "stdout",
          "text": [
            "   Color_Blue  Color_Green  Color_Red\n",
            "0       False        False       True\n",
            "1       False         True      False\n",
            "2        True        False      False\n",
            "3       False         True      False\n",
            "4       False        False       True\n"
          ]
        }
      ]
    },
    {
      "cell_type": "code",
      "source": [
        "#Question 8: Write a Python script to:\n",
        "# Generate 1000 samples from a normal distribution.\n",
        "# Introduce 50 random missing values.\n",
        "# Fill missing values with the column mean.\n",
        "# Plot a histogram before and after imputation\n",
        "\n",
        "\n",
        "\n",
        "import numpy as np\n",
        "import matplotlib.pyplot as plt\n",
        "\n",
        "# 1. Generate 1000 samples from a normal distribution\n",
        "np.random.seed(42)  # for reproducibility\n",
        "data = np.random.normal(loc=0, scale=1, size=1000)\n",
        "\n",
        "# 2. Introduce 50 random missing values\n",
        "num_missing = 50\n",
        "missing_indices = np.random.choice(len(data), num_missing, replace=False)\n",
        "data_with_missing = np.copy(data)\n",
        "data_with_missing[missing_indices] = np.nan\n",
        "\n",
        "# 3. Fill missing values with the column mean\n",
        "mean_value = np.nanmean(data_with_missing)\n",
        "data_imputed = np.nan_to_num(data_with_missing, nan=mean_value)\n",
        "\n",
        "# 4. Plot a histogram before and after imputation\n",
        "plt.figure(figsize=(12, 5))\n",
        "\n",
        "plt.subplot(1, 2, 1)\n",
        "plt.hist(data_with_missing[~np.isnan(data_with_missing)], bins=30, edgecolor='black')\n",
        "plt.title('Histogram Before Imputation (Missing Values Removed for Plotting)')\n",
        "plt.xlabel('Value')\n",
        "plt.ylabel('Frequency')\n",
        "\n",
        "plt.subplot(1, 2, 2)\n",
        "plt.hist(data_imputed, bins=30, edgecolor='black')\n",
        "plt.title('Histogram After Mean Imputation')\n",
        "plt.xlabel('Value')\n",
        "plt.ylabel('Frequency')\n",
        "\n",
        "plt.tight_layout()\n",
        "plt.show()"
      ],
      "metadata": {
        "colab": {
          "base_uri": "https://localhost:8080/",
          "height": 313
        },
        "id": "CWQhDjIoIgZQ",
        "outputId": "13ea2d45-f53f-492f-d3a0-7940849cce32"
      },
      "execution_count": 3,
      "outputs": [
        {
          "output_type": "display_data",
          "data": {
            "text/plain": [
              "<Figure size 1200x500 with 2 Axes>"
            ],
            "image/png": "[encoded data removed]"
          },
          "metadata": {}
        }
      ]
    },
    {
      "cell_type": "code",
      "source": [
        "#Question 9: Implement Min-Max scaling on the following list of numbers [2, 5, 10, 15,20] using sklearn.preprocessing.MinMaxScaler.\n",
        "#Print the scaled array\n",
        "\n",
        "import numpy as np\n",
        "from sklearn.preprocessing import MinMaxScaler\n",
        "\n",
        "# The list of numbers\n",
        "data = [2, 5, 10, 15, 20]\n",
        "\n",
        "# Reshape the data to a 2D array as required by MinMaxScaler\n",
        "data_reshaped = np.array(data).reshape(-1, 1)\n",
        "\n",
        "# Initialize the MinMaxScaler\n",
        "scaler = MinMaxScaler()\n",
        "\n",
        "# Fit and transform the data\n",
        "scaled_data = scaler.fit_transform(data_reshaped)\n",
        "\n",
        "# Print the scaled array\n",
        "print(scaled_data)"
      ],
      "metadata": {
        "colab": {
          "base_uri": "https://localhost:8080/"
        },
        "id": "1-xcYmL5NV2V",
        "outputId": "231e717f-d10a-4a22-92c9-e9dca4f9930b"
      },
      "execution_count": 4,
      "outputs": [
        {
          "output_type": "stream",
          "name": "stdout",
          "text": [
            "[[0.        ]\n",
            " [0.16666667]\n",
            " [0.44444444]\n",
            " [0.72222222]\n",
            " [1.        ]]\n"
          ]
        }
      ]
    },
    {
      "cell_type": "code",
      "source": [
        "#Question 10: You are working as a data scientist for a retail company. You receive a customer transaction dataset that contains:\n",
        "# Missing ages,\n",
        "# Outliers in transaction amount,\n",
        "# A highly imbalanced target (fraud vs. non-fraud),\n",
        "# Categorical variables like payment method.\n",
        "\n",
        "# sketch only\n",
        "from sklearn.compose import ColumnTransformer\n",
        "from sklearn.pipeline import Pipeline\n",
        "from sklearn.preprocessing import OneHotEncoder, FunctionTransformer, RobustScaler\n",
        "from sklearn.impute import SimpleImputer\n",
        "from sklearn.linear_model import LogisticRegression\n",
        "from imblearn.pipeline import Pipeline as ImbPipeline\n",
        "from imblearn.under_sampling import RandomUnderSampler\n",
        "\n",
        "num = [\"transaction_amount\",\"age\", ...]\n",
        "cat = [\"payment_method\",\"channel\", ...]\n",
        "log_amount = FunctionTransformer(lambda x: x, feature_names_out=\"one-to-one\")  # replace with log1p on amount column via a ColumnTransformer step\n",
        "\n",
        "numeric_pipe = Pipeline([\n",
        "    (\"impute\", SimpleImputer(strategy=\"median\", add_indicator=True)),\n",
        "    (\"scale\", RobustScaler()),\n",
        "])\n",
        "\n",
        "categorical_pipe = Pipeline([\n",
        "    (\"impute\", SimpleImputer(strategy=\"most_frequent\")),\n",
        "    (\"ohe\", OneHotEncoder(handle_unknown=\"infrequent_if_exist\", min_frequency=0.01)),\n",
        "])\n",
        "\n",
        "pre = ColumnTransformer([\n",
        "    (\"num\", numeric_pipe, num),\n",
        "    (\"cat\", categorical_pipe, cat),\n",
        "])\n",
        "\n",
        "model = LogisticRegression(max_iter=2000, class_weight=\"balanced\")\n",
        "\n",
        "clf = ImbPipeline([\n",
        "    (\"pre\", pre),\n",
        "    (\"rus\", RandomUnderSampler()),   # train-fold only\n",
        "    (\"est\", model),\n",
        "])\n"
      ],
      "metadata": {
        "id": "poKe2reaOBE9"
      },
      "execution_count": 5,
      "outputs": []
    },
    {
      "cell_type": "markdown",
      "source": [],
      "metadata": {
        "id": "F2BHvoBDe81Z"
      }
    },
    {
      "cell_type": "markdown",
      "source": [],
      "metadata": {
        "id": "TBOUBcPCe8xz"
      }
    },
    {
      "cell_type": "markdown",
      "source": [],
      "metadata": {
        "id": "tImIa2hOe8uN"
      }
    },
    {
      "cell_type": "markdown",
      "source": [],
      "metadata": {
        "id": "OqsZY1CAe8qQ"
      }
    },
    {
      "cell_type": "markdown",
      "source": [],
      "metadata": {
        "id": "BUf2c0UHe8j2"
      }
    },
    {
      "cell_type": "markdown",
      "source": [],
      "metadata": {
        "id": "JP6T7ZWFe8c5"
      }
    },
    {
      "cell_type": "code",
      "execution_count": null,
      "metadata": {
        "id": "P7qbqDNrdi5h"
      },
      "outputs": [],
      "source": []
    }
  ]
}